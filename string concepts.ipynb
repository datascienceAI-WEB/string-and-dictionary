{
 "cells": [
  {
   "cell_type": "code",
   "execution_count": 1,
   "id": "874fe360-1742-4030-b7e1-cfc2ddcf873b",
   "metadata": {},
   "outputs": [],
   "source": [
    "#Python - String\n",
    "#In Python, string is an immutable sequence data type. It is the sequence of Unicode characters wrapped inside single, double, or triple quotes.\n",
    "\n",
    "#'This is a string in Python' # string in single quotes\n",
    "#\"This is a string in Python\" # string in double quotes\n",
    "#'''This is a string in Python''' # string in triple quotes\n",
    "#\"\"\"This is a string in Python\"\"\" # string in triple double-quotes.\n",
    "\n"
   ]
  },
  {
   "cell_type": "code",
   "execution_count": 4,
   "id": "8b78e4ea-c82b-440b-a788-21826d5a0030",
   "metadata": {},
   "outputs": [
    {
     "name": "stdout",
     "output_type": "stream",
     "text": [
      "this is a string in python\n"
     ]
    }
   ],
   "source": [
    "str1='this is a string in python'\n",
    "print(str1)"
   ]
  },
  {
   "cell_type": "code",
   "execution_count": 5,
   "id": "a3ec10bc-0694-492a-9283-e2c4ff2ed5fb",
   "metadata": {},
   "outputs": [
    {
     "name": "stdout",
     "output_type": "stream",
     "text": [
      "this is a string in python\n"
     ]
    }
   ],
   "source": [
    "str2=\"this is a string in python\"\n",
    "print(str2)"
   ]
  },
  {
   "cell_type": "code",
   "execution_count": 6,
   "id": "049cedf7-7fa9-46e4-9252-afb37bd87906",
   "metadata": {},
   "outputs": [
    {
     "name": "stdout",
     "output_type": "stream",
     "text": [
      "thus is\n",
      "the first\n",
      "multi-line string.\n",
      "\n"
     ]
    }
   ],
   "source": [
    "str1='''thus is\n",
    "the first\n",
    "multi-line string.\n",
    "'''\n",
    "print(str1)"
   ]
  },
  {
   "cell_type": "code",
   "execution_count": 7,
   "id": "a14798a4-d074-4560-9bc9-1dd4df75b35c",
   "metadata": {},
   "outputs": [
    {
     "name": "stdout",
     "output_type": "stream",
     "text": [
      "this is \n",
      "the second\n",
      "multi-line\n",
      "string.\n"
     ]
    }
   ],
   "source": [
    "str2=\"\"\"this is \n",
    "the second\n",
    "multi-line\n",
    "string.\"\"\"\n",
    "print(str2)"
   ]
  },
  {
   "cell_type": "code",
   "execution_count": 9,
   "id": "186033f6-1671-4bed-95d1-dd57bcb575f6",
   "metadata": {},
   "outputs": [
    {
     "name": "stdout",
     "output_type": "stream",
     "text": [
      "5\n"
     ]
    }
   ],
   "source": [
    "greet='hello'\n",
    "n=len(greet)\n",
    "print(n)"
   ]
  },
  {
   "cell_type": "code",
   "execution_count": 11,
   "id": "1e6ca4ba-d27b-41ac-9e77-9275c6349d35",
   "metadata": {},
   "outputs": [],
   "source": [
    "#A sequence is defined as an ordered collection of items. Hence, a string is an ordered collection of characters\n",
    "#The sequence uses an index, starting with zero to fetch a certain item (a character in case of a string) from it."
   ]
  },
  {
   "cell_type": "code",
   "execution_count": 6,
   "id": "f66e3751-d55b-4b28-8a37-296087a35d73",
   "metadata": {},
   "outputs": [
    {
     "name": "stdout",
     "output_type": "stream",
     "text": [
      "h\n",
      "e\n",
      "l\n",
      "l\n",
      "o\n"
     ]
    }
   ],
   "source": [
    "greet='hello'\n",
    "print(greet[0])\n",
    "print(greet[1])\n",
    "print(greet[2])\n",
    "print(greet[3])\n",
    "print(greet[4])\n"
   ]
  },
  {
   "cell_type": "code",
   "execution_count": 4,
   "id": "b47ed2e1-67d8-4466-8337-c9dc4f14cea6",
   "metadata": {},
   "outputs": [
    {
     "name": "stdout",
     "output_type": "stream",
     "text": [
      "h\n",
      "e\n",
      "l\n",
      "l\n",
      "o\n",
      "h\n"
     ]
    }
   ],
   "source": [
    "greet='hello'\n",
    "print(greet[-5])\n",
    "print(greet[-4])\n",
    "print(greet[-3])\n",
    "print(greet[-2])\n",
    "print(greet[-1])\n",
    "print(greet[-0]) "
   ]
  },
  {
   "cell_type": "code",
   "execution_count": 7,
   "id": "1a50a233-1539-4cda-b6a7-e500bc5915e0",
   "metadata": {},
   "outputs": [],
   "source": [
    "#The string is an immutable object. Hence, it is not possible to modify it\n",
    "#the attempt to assign different characters at a certain index results in errors.\n",
    "\n",
    "#greet='hello'\n",
    "#greet[0]='A' #type error:'str' object does not support items\n",
    "#assignment.\n"
   ]
  },
  {
   "cell_type": "code",
   "execution_count": 19,
   "id": "33fb65a1-a0e6-43b3-b563-d8c348ed8cb5",
   "metadata": {},
   "outputs": [
    {
     "name": "stdout",
     "output_type": "stream",
     "text": [
      "<class 'str'>\n"
     ]
    }
   ],
   "source": [
    "#use the str() function to convert a number to a string.\n",
    "\n",
    "#example:str()\n",
    "\n",
    "s=str(100)\n",
    "print(type(s))"
   ]
  },
  {
   "cell_type": "code",
   "execution_count": 20,
   "id": "eba58793-7d70-412c-85e8-cfc987892670",
   "metadata": {},
   "outputs": [
    {
     "name": "stdout",
     "output_type": "stream",
     "text": [
      "-10\n"
     ]
    }
   ],
   "source": [
    "s=str(-10)\n",
    "print(s)"
   ]
  },
  {
   "cell_type": "code",
   "execution_count": 22,
   "id": "77ebba78-b498-4ed3-9954-c6242ad5603d",
   "metadata": {},
   "outputs": [
    {
     "name": "stdout",
     "output_type": "stream",
     "text": [
      "True\n"
     ]
    }
   ],
   "source": [
    "s=str(True)\n",
    "print(s)"
   ]
  },
  {
   "cell_type": "code",
   "execution_count": 8,
   "id": "bdbb9617-c7a5-415e-acdb-5b8a87baaba6",
   "metadata": {},
   "outputs": [],
   "source": [
    "a='hello world'\n"
   ]
  },
  {
   "cell_type": "code",
   "execution_count": 9,
   "id": "9f6b4034-d3d5-4a18-8d7c-17f9719c715c",
   "metadata": {},
   "outputs": [
    {
     "ename": "NameError",
     "evalue": "name 'mystr' is not defined",
     "output_type": "error",
     "traceback": [
      "\u001b[1;31m---------------------------------------------------------------------------\u001b[0m",
      "\u001b[1;31mNameError\u001b[0m                                 Traceback (most recent call last)",
      "Cell \u001b[1;32mIn[9], line 7\u001b[0m\n\u001b[0;32m      1\u001b[0m \u001b[38;5;66;03m#Python String count() Method\u001b[39;00m\n\u001b[0;32m      2\u001b[0m \n\u001b[0;32m      3\u001b[0m \u001b[38;5;66;03m#The count() method searches (case-sensitive) the specified substring in the given string and returns an integer indicating occurrences of the substring. \u001b[39;00m\n\u001b[0;32m      4\u001b[0m \u001b[38;5;66;03m#By default, the counting begins from 0 index till the end of the string.\u001b[39;00m\n\u001b[1;32m----> 7\u001b[0m \u001b[38;5;28mprint\u001b[39m(mystr\u001b[38;5;241m.\u001b[39mendswith(\u001b[38;5;124m'\u001b[39m\u001b[38;5;124m.\u001b[39m\u001b[38;5;124m'\u001b[39m))   \n\u001b[0;32m      8\u001b[0m \u001b[38;5;28mprint\u001b[39m(mystr\u001b[38;5;241m.\u001b[39mendswith(\u001b[38;5;124m'\u001b[39m\u001b[38;5;124mage.\u001b[39m\u001b[38;5;124m'\u001b[39m))       \n\u001b[0;32m      9\u001b[0m \u001b[38;5;28mprint\u001b[39m(mystr\u001b[38;5;241m.\u001b[39mendswith(\u001b[38;5;124m'\u001b[39m\u001b[38;5;124mlanguage.\u001b[39m\u001b[38;5;124m'\u001b[39m))   \n",
      "\u001b[1;31mNameError\u001b[0m: name 'mystr' is not defined"
     ]
    }
   ],
   "source": [
    "#Python String count() Method\n",
    "\n",
    "#The count() method searches (case-sensitive) the specified substring in the given string and returns an integer indicating occurrences of the substring. \n",
    "#By default, the counting begins from 0 index till the end of the string.\n",
    "\n",
    "\n",
    "print(mystr.endswith('.'))   \n",
    "print(mystr.endswith('age.'))       \n",
    "print(mystr.endswith('language.'))   \n",
    "print(mystr.endswith('programming language.'))       \n",
    "print(mystr.endswith('age'))       \n",
    "\n"
   ]
  },
  {
   "cell_type": "code",
   "execution_count": 27,
   "id": "4d0272ec-d981-441a-9073-01e71ac8afef",
   "metadata": {},
   "outputs": [
    {
     "ename": "NameError",
     "evalue": "name 'mystr' is not defined",
     "output_type": "error",
     "traceback": [
      "\u001b[1;31m---------------------------------------------------------------------------\u001b[0m",
      "\u001b[1;31mNameError\u001b[0m                                 Traceback (most recent call last)",
      "Cell \u001b[1;32mIn[27], line 1\u001b[0m\n\u001b[1;32m----> 1\u001b[0m \u001b[38;5;28mprint\u001b[39m(mystr\u001b[38;5;241m.\u001b[39mendswith(\u001b[38;5;124m'\u001b[39m\u001b[38;5;124m,\u001b[39m\u001b[38;5;124m'\u001b[39m))   \n\u001b[0;32m      2\u001b[0m \u001b[38;5;28mprint\u001b[39m(mystr\u001b[38;5;241m.\u001b[39mendswith(\u001b[38;5;124m'\u001b[39m\u001b[38;5;124mage.\u001b[39m\u001b[38;5;124m'\u001b[39m))       \n\u001b[0;32m      3\u001b[0m \u001b[38;5;28mprint\u001b[39m(mystr\u001b[38;5;241m.\u001b[39mendswith(\u001b[38;5;124m'\u001b[39m\u001b[38;5;124mlanguage.\u001b[39m\u001b[38;5;124m'\u001b[39m))   \n",
      "\u001b[1;31mNameError\u001b[0m: name 'mystr' is not defined"
     ]
    }
   ],
   "source": [
    "print(mystr.endswith(','))   \n",
    "print(mystr.endswith('age.'))       \n",
    "print(mystr.endswith('language.'))   \n",
    "print(mystr.endswith('programming language.'))       \n",
    "print(mystr.endswith('age'))       \n"
   ]
  },
  {
   "cell_type": "code",
   "execution_count": 10,
   "id": "10d8f8d2-017f-4e05-9ee6-1fdc2c42e4f3",
   "metadata": {},
   "outputs": [
    {
     "name": "stdout",
     "output_type": "stream",
     "text": [
      "Index of 'H': -1\n",
      "Index of 'H': -1\n"
     ]
    }
   ],
   "source": [
    "greet='ello world!'\n",
    "print(\"Index of 'H':\", greet.find('H'))\n",
    "print(\"Index of 'H':\", greet.find('H'))\n"
   ]
  },
  {
   "cell_type": "code",
   "execution_count": 11,
   "id": "62a68c5a-26b6-4ffb-963e-da3d8f66b8e2",
   "metadata": {},
   "outputs": [
    {
     "name": "stdout",
     "output_type": "stream",
     "text": [
      "HappyMondayEveryone\n"
     ]
    }
   ],
   "source": [
    "mystr=('Happy'\n",
    "       'Monday'\n",
    "       'Everyone')\n",
    "print(mystr)"
   ]
  },
  {
   "cell_type": "code",
   "execution_count": 12,
   "id": "05760e8a-a493-4736-a4e1-831d0053b55b",
   "metadata": {},
   "outputs": [],
   "source": [
    "str1='HELLO PHYTHON'"
   ]
  },
  {
   "cell_type": "code",
   "execution_count": 13,
   "id": "57d574d2-bdf1-4c08-a492-6f5ea819f7a8",
   "metadata": {},
   "outputs": [
    {
     "data": {
      "text/plain": [
       "'THON'"
      ]
     },
     "execution_count": 13,
     "metadata": {},
     "output_type": "execute_result"
    }
   ],
   "source": [
    "str1[-4:]"
   ]
  },
  {
   "cell_type": "code",
   "execution_count": 14,
   "id": "1169ef74-eff5-4c50-99d7-f725add56e50",
   "metadata": {},
   "outputs": [
    {
     "data": {
      "text/plain": [
       "'PHYTHO'"
      ]
     },
     "execution_count": 14,
     "metadata": {},
     "output_type": "execute_result"
    }
   ],
   "source": [
    "str1[6:12]"
   ]
  },
  {
   "cell_type": "code",
   "execution_count": 15,
   "id": "bf6ab965-5f68-459d-b6b6-589d63046885",
   "metadata": {},
   "outputs": [
    {
     "data": {
      "text/plain": [
       "'HYTHON'"
      ]
     },
     "execution_count": 15,
     "metadata": {},
     "output_type": "execute_result"
    }
   ],
   "source": [
    "str1[-6:]"
   ]
  },
  {
   "cell_type": "code",
   "execution_count": 17,
   "id": "511f041b-55fe-4624-8613-4cbde2abc4d3",
   "metadata": {},
   "outputs": [
    {
     "data": {
      "text/plain": [
       "'HELL'"
      ]
     },
     "execution_count": 17,
     "metadata": {},
     "output_type": "execute_result"
    }
   ],
   "source": [
    "str1[:4]"
   ]
  },
  {
   "cell_type": "code",
   "execution_count": 18,
   "id": "682ddaec-c1d8-4774-882b-cdc018869698",
   "metadata": {},
   "outputs": [
    {
     "data": {
      "text/plain": [
       "'HELLO '"
      ]
     },
     "execution_count": 18,
     "metadata": {},
     "output_type": "execute_result"
    }
   ],
   "source": [
    "str1[:6]"
   ]
  },
  {
   "cell_type": "code",
   "execution_count": 19,
   "id": "5bf59b58-0352-473d-9219-adfed0f33847",
   "metadata": {},
   "outputs": [
    {
     "data": {
      "text/plain": [
       "'HELLO PHYTHON'"
      ]
     },
     "execution_count": 19,
     "metadata": {},
     "output_type": "execute_result"
    }
   ],
   "source": [
    "str1"
   ]
  },
  {
   "cell_type": "code",
   "execution_count": 20,
   "id": "c08fc21c-b50d-4e68-b78b-e2c0ff85d7cf",
   "metadata": {},
   "outputs": [
    {
     "name": "stdout",
     "output_type": "stream",
     "text": [
      "HelloAsif\n"
     ]
    }
   ],
   "source": [
    "s1=\"Hello\"\n",
    "s2=\"Asif\"\n",
    "s3=s1+s2\n",
    "print(s3)"
   ]
  },
  {
   "cell_type": "code",
   "execution_count": 21,
   "id": "c6f23b21-86e8-4568-ba30-67f85e50a14e",
   "metadata": {},
   "outputs": [
    {
     "name": "stdout",
     "output_type": "stream",
     "text": [
      "(0, 'h')\n",
      "(1, 'e')\n",
      "(2, 'l')\n",
      "(3, 'l')\n",
      "(4, 'o')\n",
      "(5, ' ')\n",
      "(6, 'w')\n",
      "(7, 'o')\n",
      "(8, 'r')\n",
      "(9, 'l')\n",
      "(10, 'd')\n"
     ]
    }
   ],
   "source": [
    "str1='hello world'\n",
    "for i in enumerate(str1):\n",
    "    print(i)"
   ]
  },
  {
   "cell_type": "code",
   "execution_count": 22,
   "id": "2cee6dfa-8c3b-4ad7-9d8e-432ea95dd2f2",
   "metadata": {},
   "outputs": [
    {
     "name": "stdout",
     "output_type": "stream",
     "text": [
      "True\n",
      "True\n"
     ]
    }
   ],
   "source": [
    "mystr1=\"Hello Everyone\"\n",
    "print('Hello' in mystr1)\n",
    "print('Everyone' in mystr1)\n"
   ]
  },
  {
   "cell_type": "code",
   "execution_count": 23,
   "id": "1e887a6c-ac9a-4b6a-98a2-265377fb9458",
   "metadata": {},
   "outputs": [
    {
     "name": "stdout",
     "output_type": "stream",
     "text": [
      "('Natural language processing with python and R ', 'and', ' Java')\n"
     ]
    }
   ],
   "source": [
    "str5=\"Natural language processing with python and R and Java\"\n",
    "l=str5.rpartition(\"and\")\n",
    "print(l)\n"
   ]
  },
  {
   "cell_type": "code",
   "execution_count": 25,
   "id": "45f571ae-0cec-47a0-bcb8-be541ed962d8",
   "metadata": {},
   "outputs": [],
   "source": [
    "mystr2=\"**************Hello Everyone********** All the Best*******\""
   ]
  },
  {
   "cell_type": "code",
   "execution_count": 26,
   "id": "95039be6-a076-4844-9e1f-0d6286304606",
   "metadata": {},
   "outputs": [],
   "source": [
    "mystr2=\"Hello Everyone\""
   ]
  },
  {
   "cell_type": "code",
   "execution_count": 27,
   "id": "beff46d6-e763-4e2c-a908-0333beda64df",
   "metadata": {},
   "outputs": [
    {
     "data": {
      "text/plain": [
       "'hello everyone'"
      ]
     },
     "execution_count": 27,
     "metadata": {},
     "output_type": "execute_result"
    }
   ],
   "source": [
    "mystr2.lower()"
   ]
  },
  {
   "cell_type": "code",
   "execution_count": 28,
   "id": "22ccf3b5-2125-4fc3-a903-35f4e8df95ee",
   "metadata": {},
   "outputs": [
    {
     "data": {
      "text/plain": [
       "'HELLO EVERYONE'"
      ]
     },
     "execution_count": 28,
     "metadata": {},
     "output_type": "execute_result"
    }
   ],
   "source": [
    "mystr2.upper()"
   ]
  },
  {
   "cell_type": "code",
   "execution_count": 29,
   "id": "d5249e95-92be-4c23-9d5a-a7225e2ac267",
   "metadata": {},
   "outputs": [
    {
     "data": {
      "text/plain": [
       "'Hello Everyone'"
      ]
     },
     "execution_count": 29,
     "metadata": {},
     "output_type": "execute_result"
    }
   ],
   "source": [
    "mystr2.replace(\"\",\"\")"
   ]
  },
  {
   "cell_type": "code",
   "execution_count": 30,
   "id": "4f2cf3e3-d98e-4ffd-8720-e9b5315ec012",
   "metadata": {},
   "outputs": [
    {
     "name": "stdout",
     "output_type": "stream",
     "text": [
      "cost ofitem1,item2 and item3 are 40,55 and77\n"
     ]
    }
   ],
   "source": [
    "item1=40\n",
    "item2=55\n",
    "item3=77\n",
    "print(\"cost ofitem1,item2 and item3 are {},{} and{}\". format(item1,item2,item3))"
   ]
  },
  {
   "cell_type": "code",
   "execution_count": 31,
   "id": "b68ec732-9db1-4a2b-949d-70f6017b94d9",
   "metadata": {},
   "outputs": [
    {
     "name": "stdout",
     "output_type": "stream",
     "text": [
      "                                          WELCOME EVERYONE                                          \n"
     ]
    }
   ],
   "source": [
    "str2=\"WELCOME EVERYONE\"\n",
    "str2=str2.center(100)\n",
    "print(str2)"
   ]
  },
  {
   "cell_type": "code",
   "execution_count": 32,
   "id": "76486ca5-936d-4fff-914e-f0056b1d915e",
   "metadata": {},
   "outputs": [
    {
     "name": "stdout",
     "output_type": "stream",
     "text": [
      "******************************************WELCOME EVERYONE******************************************\n"
     ]
    }
   ],
   "source": [
    "str2=\"WELCOME EVERYONE\"\n",
    "str2=str2.center(100,'*')\n",
    "print(str2)"
   ]
  },
  {
   "cell_type": "code",
   "execution_count": 33,
   "id": "c03a781f-4dc6-45b7-8ae0-a9aa651dd730",
   "metadata": {},
   "outputs": [
    {
     "name": "stdout",
     "output_type": "stream",
     "text": [
      "False\n",
      "True\n",
      "True\n",
      "True\n"
     ]
    }
   ],
   "source": [
    "mystr6='123456789'\n",
    "print(mystr6.isalpha())\n",
    "print(mystr6.isalnum())\n",
    "print(mystr6.isdecimal())\n",
    "print(mystr6.isnumeric())"
   ]
  },
  {
   "cell_type": "code",
   "execution_count": 34,
   "id": "bd8ad5bc-6444-46f4-b02a-caed45928388",
   "metadata": {},
   "outputs": [
    {
     "name": "stdout",
     "output_type": "stream",
     "text": [
      "46\n"
     ]
    }
   ],
   "source": [
    "str6=\"one two three four one two two three five six one ten eight ten nine\"\n",
    "loc=str6.rfind(\"one\")\n",
    "print(loc)"
   ]
  },
  {
   "cell_type": "code",
   "execution_count": null,
   "id": "68e7b6fa-5a06-4070-8745-a90f4b80fb88",
   "metadata": {},
   "outputs": [],
   "source": []
  }
 ],
 "metadata": {
  "kernelspec": {
   "display_name": "Python 3 (ipykernel)",
   "language": "python",
   "name": "python3"
  },
  "language_info": {
   "codemirror_mode": {
    "name": "ipython",
    "version": 3
   },
   "file_extension": ".py",
   "mimetype": "text/x-python",
   "name": "python",
   "nbconvert_exporter": "python",
   "pygments_lexer": "ipython3",
   "version": "3.11.7"
  }
 },
 "nbformat": 4,
 "nbformat_minor": 5
}
