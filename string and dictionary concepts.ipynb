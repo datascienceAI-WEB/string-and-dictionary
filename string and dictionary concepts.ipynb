{
 "cells": [
  {
   "cell_type": "code",
   "execution_count": 2,
   "id": "fbbd0657-5118-41f5-bed5-424b5b5e8e46",
   "metadata": {},
   "outputs": [
    {
     "name": "stdout",
     "output_type": "stream",
     "text": [
      "HappyMondayEveryone\n"
     ]
    }
   ],
   "source": [
    "mystr=('Happy'\n",
    "       'Monday'\n",
    "       'Everyone')\n",
    "print(mystr)"
   ]
  },
  {
   "cell_type": "code",
   "execution_count": 4,
   "id": "68d84f7a-56f2-49d8-a2b7-8d66f17a7803",
   "metadata": {},
   "outputs": [],
   "source": [
    "str1='HELLO PHYTHON'"
   ]
  },
  {
   "cell_type": "code",
   "execution_count": 5,
   "id": "8b25dc42-0851-4599-87cb-81b34e6705ed",
   "metadata": {},
   "outputs": [
    {
     "data": {
      "text/plain": [
       "'THON'"
      ]
     },
     "execution_count": 5,
     "metadata": {},
     "output_type": "execute_result"
    }
   ],
   "source": [
    "str1[-4:]"
   ]
  },
  {
   "cell_type": "code",
   "execution_count": 6,
   "id": "2a298dad-bff6-4b6f-94b9-bea072d36fa5",
   "metadata": {},
   "outputs": [
    {
     "data": {
      "text/plain": [
       "'PHYTHO'"
      ]
     },
     "execution_count": 6,
     "metadata": {},
     "output_type": "execute_result"
    }
   ],
   "source": [
    "str1[6:12]"
   ]
  },
  {
   "cell_type": "code",
   "execution_count": 7,
   "id": "e66d82c5-4cc7-4476-9fc0-22a2f269d810",
   "metadata": {},
   "outputs": [
    {
     "data": {
      "text/plain": [
       "'HYTHON'"
      ]
     },
     "execution_count": 7,
     "metadata": {},
     "output_type": "execute_result"
    }
   ],
   "source": [
    "str1[-6:]"
   ]
  },
  {
   "cell_type": "code",
   "execution_count": 8,
   "id": "462c4384-1992-4c50-9ba3-70d9cbb7f28a",
   "metadata": {},
   "outputs": [
    {
     "data": {
      "text/plain": [
       "'HELL'"
      ]
     },
     "execution_count": 8,
     "metadata": {},
     "output_type": "execute_result"
    }
   ],
   "source": [
    "str1[:4]"
   ]
  },
  {
   "cell_type": "code",
   "execution_count": 9,
   "id": "8ddd9196-c75a-4e0d-b9df-2d5dfc45a0ec",
   "metadata": {},
   "outputs": [
    {
     "data": {
      "text/plain": [
       "'HELLO '"
      ]
     },
     "execution_count": 9,
     "metadata": {},
     "output_type": "execute_result"
    }
   ],
   "source": [
    "str1[:6]"
   ]
  },
  {
   "cell_type": "code",
   "execution_count": 10,
   "id": "0e5a49c6-d18f-4003-bd0e-0a1e3927f28c",
   "metadata": {},
   "outputs": [
    {
     "data": {
      "text/plain": [
       "'HELLO PHYTHON'"
      ]
     },
     "execution_count": 10,
     "metadata": {},
     "output_type": "execute_result"
    }
   ],
   "source": [
    "str1"
   ]
  },
  {
   "cell_type": "code",
   "execution_count": 12,
   "id": "0fc9da77-b20d-4d27-9f98-7495201678b2",
   "metadata": {},
   "outputs": [
    {
     "ename": "NameError",
     "evalue": "name 'str1' is not defined",
     "output_type": "error",
     "traceback": [
      "\u001b[1;31m---------------------------------------------------------------------------\u001b[0m",
      "\u001b[1;31mNameError\u001b[0m                                 Traceback (most recent call last)",
      "Cell \u001b[1;32mIn[12], line 1\u001b[0m\n\u001b[1;32m----> 1\u001b[0m \u001b[38;5;28;01mdel\u001b[39;00m str1\n\u001b[0;32m      2\u001b[0m \u001b[38;5;28mprint\u001b[39m(str1)\n",
      "\u001b[1;31mNameError\u001b[0m: name 'str1' is not defined"
     ]
    }
   ],
   "source": [
    "del str1\n",
    "print(str1)"
   ]
  },
  {
   "cell_type": "code",
   "execution_count": 13,
   "id": "6f406fa0-aeb1-41ad-8deb-f88abed6a661",
   "metadata": {},
   "outputs": [
    {
     "name": "stdout",
     "output_type": "stream",
     "text": [
      "HelloAsif\n"
     ]
    }
   ],
   "source": [
    "s1=\"Hello\"\n",
    "s2=\"Asif\"\n",
    "s3=s1+s2\n",
    "print(s3)"
   ]
  },
  {
   "cell_type": "code",
   "execution_count": 16,
   "id": "f6d0fab3-35fc-4475-87af-4dd28e2484cf",
   "metadata": {},
   "outputs": [
    {
     "name": "stdout",
     "output_type": "stream",
     "text": [
      "(0, 'h')\n",
      "(1, 'e')\n",
      "(2, 'l')\n",
      "(3, 'l')\n",
      "(4, 'o')\n",
      "(5, ' ')\n",
      "(6, 'w')\n",
      "(7, 'o')\n",
      "(8, 'r')\n",
      "(9, 'l')\n",
      "(10, 'd')\n"
     ]
    }
   ],
   "source": [
    "str1='hello world'\n",
    "for i in enumerate(str1):\n",
    "    print(i)"
   ]
  },
  {
   "cell_type": "code",
   "execution_count": 17,
   "id": "fb73d570-f434-4669-a9d0-20d1c25ef9b0",
   "metadata": {},
   "outputs": [
    {
     "name": "stdout",
     "output_type": "stream",
     "text": [
      "True\n",
      "True\n"
     ]
    }
   ],
   "source": [
    "mystr1=\"Hello Everyone\"\n",
    "print('Hello' in mystr1)\n",
    "print('Everyone' in mystr1)\n"
   ]
  },
  {
   "cell_type": "code",
   "execution_count": 26,
   "id": "735adfa7-0fd7-4c31-90ff-31f55ee61f03",
   "metadata": {},
   "outputs": [
    {
     "ename": "AttributeError",
     "evalue": "'str' object has no attribute 'Rpartition'",
     "output_type": "error",
     "traceback": [
      "\u001b[1;31m---------------------------------------------------------------------------\u001b[0m",
      "\u001b[1;31mAttributeError\u001b[0m                            Traceback (most recent call last)",
      "Cell \u001b[1;32mIn[26], line 2\u001b[0m\n\u001b[0;32m      1\u001b[0m str5\u001b[38;5;241m=\u001b[39m\u001b[38;5;124m\"\u001b[39m\u001b[38;5;124mNatural language processing with python and R and Java\u001b[39m\u001b[38;5;124m\"\u001b[39m\n\u001b[1;32m----> 2\u001b[0m l\u001b[38;5;241m=\u001b[39mstr5\u001b[38;5;241m.\u001b[39mRpartition(\u001b[38;5;124m\"\u001b[39m\u001b[38;5;124mand\u001b[39m\u001b[38;5;124m\"\u001b[39m)\n\u001b[0;32m      3\u001b[0m \u001b[38;5;28mprint\u001b[39m(l)\n",
      "\u001b[1;31mAttributeError\u001b[0m: 'str' object has no attribute 'Rpartition'"
     ]
    }
   ],
   "source": [
    "str5=\"Natural language processing with python and R and Java\"\n",
    "l=str5.Rpartition(\"and\")\n",
    "print(l)"
   ]
  },
  {
   "cell_type": "code",
   "execution_count": 25,
   "id": "91ee320a-0266-48fb-870c-edf6161fb8de",
   "metadata": {},
   "outputs": [
    {
     "name": "stdout",
     "output_type": "stream",
     "text": [
      "('Natural language processing with python and R ', 'and', ' Java')\n"
     ]
    }
   ],
   "source": [
    "str5=\"Natural language processing with python and R and Java\"\n",
    "l=str5.rpartition(\"and\")\n",
    "print(l)\n"
   ]
  },
  {
   "cell_type": "code",
   "execution_count": 29,
   "id": "62b83f22-489a-454b-9c24-4c4de747596e",
   "metadata": {},
   "outputs": [],
   "source": [
    "mystr2=\"**************Hello Everyone********** All the Best*******\"\n"
   ]
  },
  {
   "cell_type": "code",
   "execution_count": 30,
   "id": "0355b3ae-6d99-4568-96a4-093a01638781",
   "metadata": {},
   "outputs": [],
   "source": [
    "mystr2=\"Hello Everyone\""
   ]
  },
  {
   "cell_type": "code",
   "execution_count": 31,
   "id": "5752ce28-5ae7-495f-914f-d780724dc1d1",
   "metadata": {},
   "outputs": [
    {
     "data": {
      "text/plain": [
       "'hello everyone'"
      ]
     },
     "execution_count": 31,
     "metadata": {},
     "output_type": "execute_result"
    }
   ],
   "source": [
    "mystr2.lower()"
   ]
  },
  {
   "cell_type": "code",
   "execution_count": 32,
   "id": "7a6e8ad7-0ac3-47fa-ab17-5202db0b2b27",
   "metadata": {},
   "outputs": [
    {
     "data": {
      "text/plain": [
       "'HELLO EVERYONE'"
      ]
     },
     "execution_count": 32,
     "metadata": {},
     "output_type": "execute_result"
    }
   ],
   "source": [
    "mystr2.upper()\n"
   ]
  },
  {
   "cell_type": "code",
   "execution_count": 33,
   "id": "74246093-d163-4ffc-8796-dd2afd7d2686",
   "metadata": {},
   "outputs": [
    {
     "data": {
      "text/plain": [
       "'Hello Everyone'"
      ]
     },
     "execution_count": 33,
     "metadata": {},
     "output_type": "execute_result"
    }
   ],
   "source": [
    "mystr2.replace(\"\",\"\")"
   ]
  },
  {
   "cell_type": "code",
   "execution_count": 36,
   "id": "511c5a78-550b-4fe1-841c-f812f1fe8d15",
   "metadata": {},
   "outputs": [
    {
     "name": "stdout",
     "output_type": "stream",
     "text": [
      "cost ofitem1,item2 and item3 are 40,55 and77\n"
     ]
    }
   ],
   "source": [
    "item1=40\n",
    "item2=55\n",
    "item3=77\n",
    "print(\"cost ofitem1,item2 and item3 are {},{} and{}\". format(item1,item2,item3))"
   ]
  },
  {
   "cell_type": "code",
   "execution_count": 40,
   "id": "57073825-b0bc-4d57-b123-2968b98dc7eb",
   "metadata": {},
   "outputs": [
    {
     "ename": "SyntaxError",
     "evalue": "Missing parentheses in call to 'print'. Did you mean print(...)? (4235816377.py, line 4)",
     "output_type": "error",
     "traceback": [
      "\u001b[1;36m  Cell \u001b[1;32mIn[40], line 4\u001b[1;36m\u001b[0m\n\u001b[1;33m    print\"cost ofitem3,item2 and item1 are {2},{1} and{0}\"\u001b[0m\n\u001b[1;37m    ^\u001b[0m\n\u001b[1;31mSyntaxError\u001b[0m\u001b[1;31m:\u001b[0m Missing parentheses in call to 'print'. Did you mean print(...)?\n"
     ]
    }
   ],
   "source": [
    "item1=40\n",
    "item2=55\n",
    "item3=77\n",
    "print\"cost ofitem3,item2 and item1 are {2},{1} and{0}\"\n",
    "print(res.format(item1,item2,item3))"
   ]
  },
  {
   "cell_type": "code",
   "execution_count": 41,
   "id": "79c9a4d3-5cdd-418a-907c-90274c638485",
   "metadata": {},
   "outputs": [
    {
     "name": "stdout",
     "output_type": "stream",
     "text": [
      "                                          WELCOME EVERYONE                                          \n"
     ]
    }
   ],
   "source": [
    "str2=\"WELCOME EVERYONE\"\n",
    "str2=str2.center(100)\n",
    "print(str2)"
   ]
  },
  {
   "cell_type": "code",
   "execution_count": 42,
   "id": "a8cfb2a1-4963-46eb-9554-9894f94bfcfc",
   "metadata": {},
   "outputs": [
    {
     "name": "stdout",
     "output_type": "stream",
     "text": [
      "******************************************WELCOME EVERYONE******************************************\n"
     ]
    }
   ],
   "source": [
    "str2=\"WELCOME EVERYONE\"\n",
    "str2=str2.center(100,'*')\n",
    "print(str2)"
   ]
  },
  {
   "cell_type": "code",
   "execution_count": 44,
   "id": "15911af3-37c4-4113-8f93-6e3abbd29c63",
   "metadata": {},
   "outputs": [
    {
     "name": "stdout",
     "output_type": "stream",
     "text": [
      "**********************************WELCOME EVERYONE\n"
     ]
    }
   ],
   "source": [
    "str2=\"WELCOME EVERYONE\"\n",
    "str2=str2.rjust(50,'*')\n",
    "print(str2)"
   ]
  },
  {
   "cell_type": "code",
   "execution_count": 45,
   "id": "287e2be6-9320-436b-9580-b0e9b9d1b3cd",
   "metadata": {},
   "outputs": [
    {
     "name": "stdout",
     "output_type": "stream",
     "text": [
      "False\n",
      "True\n",
      "True\n",
      "True\n"
     ]
    }
   ],
   "source": [
    "mystr6='123456789'\n",
    "print(mystr6.isalpha())\n",
    "print(mystr6.isalnum())\n",
    "print(mystr6.isdecimal())\n",
    "print(mystr6.isnumeric())"
   ]
  },
  {
   "cell_type": "code",
   "execution_count": 48,
   "id": "51670eec-802f-4b0c-9d8e-918bfadc4e68",
   "metadata": {},
   "outputs": [
    {
     "name": "stdout",
     "output_type": "stream",
     "text": [
      "46\n"
     ]
    }
   ],
   "source": [
    "str6=\"one two three four one two two three five six one ten eight ten nine\"\n",
    "loc=str6.rfind(\"one\")\n",
    "print(loc)"
   ]
  },
  {
   "cell_type": "code",
   "execution_count": 49,
   "id": "5b5978fd-fc18-447c-819e-04ac1a0eeb6a",
   "metadata": {},
   "outputs": [
    {
     "name": "stdout",
     "output_type": "stream",
     "text": [
      "46\n"
     ]
    }
   ],
   "source": []
  },
  {
   "cell_type": "code",
   "execution_count": 1,
   "id": "d97b5018-c92f-4bc0-983b-c5899022d926",
   "metadata": {},
   "outputs": [],
   "source": [
    "# python-Dictionary\n",
    "\n",
    "#the dictionary is an unordered collection that contains key;value pairs\n",
    "#separated by commas in side culy brackets.Dictionaries are optimized to retrieve values when the key is known.\n",
    "#the following declares a dictionary object.\n",
    "\n"
   ]
  },
  {
   "cell_type": "code",
   "execution_count": 2,
   "id": "c4ce6470-44af-4a77-aba5-472736e5390e",
   "metadata": {},
   "outputs": [],
   "source": [
    "#capital={\"USA\":WashingtonD.C.\",\"France\":\"parise\",\"India\":\"New Delhi\"}\n",
    "#print(type(capitals))"
   ]
  },
  {
   "cell_type": "code",
   "execution_count": 5,
   "id": "971ae26b-1c51-4c69-aa2b-9ed20209ffee",
   "metadata": {},
   "outputs": [
    {
     "ename": "SyntaxError",
     "evalue": "'{' was never closed (2509910258.py, line 1)",
     "output_type": "error",
     "traceback": [
      "\u001b[1;36m  Cell \u001b[1;32mIn[5], line 1\u001b[1;36m\u001b[0m\n\u001b[1;33m    d={{}\u001b[0m\n\u001b[1;37m      ^\u001b[0m\n\u001b[1;31mSyntaxError\u001b[0m\u001b[1;31m:\u001b[0m '{' was never closed\n"
     ]
    }
   ],
   "source": [
    "d={{}\n",
    "   num Name={1:\"One\",2:\"Two\"<3: Three}"
   ]
  },
  {
   "cell_type": "code",
   "execution_count": 3,
   "id": "6ff875fc-ba93-4731-b507-158c6af62706",
   "metadata": {},
   "outputs": [
    {
     "name": "stdout",
     "output_type": "stream",
     "text": [
      "{}\n"
     ]
    }
   ],
   "source": [
    "# a dictionary can also be created using the dict() constructor method.\n",
    "#example: dict() constructor method\n",
    "\n",
    "emptydict=dict()\n",
    "print(emptydict)"
   ]
  },
  {
   "cell_type": "code",
   "execution_count": 4,
   "id": "1a15aa6f-a849-4d38-9538-2e7eeb339ab8",
   "metadata": {},
   "outputs": [
    {
     "name": "stdout",
     "output_type": "stream",
     "text": [
      "{'I': 'one', 'II': 'Two', 'III': 'Three'}\n"
     ]
    }
   ],
   "source": [
    "numdict=dict(I=\"one\",II=\"Two\",III=\"Three\")\n",
    "print(numdict)"
   ]
  },
  {
   "cell_type": "code",
   "execution_count": 5,
   "id": "c7db1d3e-e38f-4ca5-af30-72383a888d12",
   "metadata": {},
   "outputs": [
    {
     "name": "stdout",
     "output_type": "stream",
     "text": [
      "{'I': 'one', 'II': 'two', 'III': 'three'}\n"
     ]
    }
   ],
   "source": [
    "numdict=dict((('I','one'),('II','two'),('III','three')))\n",
    "print(numdict)"
   ]
  },
  {
   "cell_type": "code",
   "execution_count": 6,
   "id": "b838fa0f-2f58-45cb-9ff1-3ef251bda7fd",
   "metadata": {},
   "outputs": [],
   "source": [
    "# access dictionary\n",
    "#dictionary is an unordered collection, so a value cannot be accessed using \n",
    "#an index; instead, a key must be specified in the square brackets, as show below.\n"
   ]
  },
  {
   "cell_type": "code",
   "execution_count": 7,
   "id": "529c652b-2962-4ce1-9497-c542c9a95bb2",
   "metadata": {},
   "outputs": [
    {
     "name": "stdout",
     "output_type": "stream",
     "text": [
      "One Two Three\n"
     ]
    }
   ],
   "source": [
    "numNames={1:\"One\",2:\"Two\",3:\"Three\"}\n",
    "print(numNames[1],numNames[2],numNames[3],)"
   ]
  },
  {
   "cell_type": "code",
   "execution_count": 10,
   "id": "10308387-189d-4111-946d-07d77b1951c3",
   "metadata": {},
   "outputs": [
    {
     "name": "stdout",
     "output_type": "stream",
     "text": [
      "Washington DC Paris\n"
     ]
    }
   ],
   "source": [
    "capitals={\"USA\":\"Washington DC\",\"France\":\"Paris\",\"India\":\"New Delhi\"}\n",
    "print(capitals[\"USA\"],capitals[\"France\"],)"
   ]
  },
  {
   "cell_type": "code",
   "execution_count": 11,
   "id": "2b4f5776-e704-478b-843d-04115fd3c674",
   "metadata": {},
   "outputs": [],
   "source": [
    "#following throws an keyerror\n",
    "#print(capital[\"usa\"]\n",
    "#print(capitals[\"japan\"])"
   ]
  },
  {
   "cell_type": "code",
   "execution_count": 13,
   "id": "bfbee890-f9f9-4e76-b708-96319d740e6f",
   "metadata": {},
   "outputs": [
    {
     "name": "stdout",
     "output_type": "stream",
     "text": [
      "one Two None\n"
     ]
    }
   ],
   "source": [
    "#use the get () method to retrieve the key's value even if key are not know. it returns none if the key does not exist instead of raising an error.\n",
    "\n",
    "x={1:\"one\",2:\"Two\",3:\"Three\"}\n",
    "print(x.get(1),x.get(2),x.get(4))"
   ]
  },
  {
   "cell_type": "code",
   "execution_count": 15,
   "id": "b7c8fa1f-fb20-43ed-ab5c-a22cbf8602cd",
   "metadata": {},
   "outputs": [
    {
     "name": "stdout",
     "output_type": "stream",
     "text": [
      "{'a': 123, 'b': 345, 'c': 567, 'd': 789}\n"
     ]
    }
   ],
   "source": [
    "# dictionary threow for loop.\n",
    "\n",
    "d1={'a':123,'b':345,'c':567,'d':789}\n",
    "print(d1)"
   ]
  },
  {
   "cell_type": "code",
   "execution_count": 17,
   "id": "7e5d0592-ef79-43b4-9cc3-b2bc15460df9",
   "metadata": {},
   "outputs": [
    {
     "name": "stdout",
     "output_type": "stream",
     "text": [
      "{'a': 123, 'b': 345, 'c': 567, 'd': 789}\n",
      "abcd"
     ]
    }
   ],
   "source": [
    "d1={'a':123,'b':345,'c':567,'d':789}\n",
    "print(d1)\n",
    "for i in d1:\n",
    "    print(i,end=\"\")\n",
    "\n"
   ]
  },
  {
   "cell_type": "code",
   "execution_count": 19,
   "id": "43979284-96be-4c3f-8f5f-091bf979f65d",
   "metadata": {},
   "outputs": [
    {
     "name": "stdout",
     "output_type": "stream",
     "text": [
      "123345567789\n"
     ]
    }
   ],
   "source": [
    "for i in d1. values():\n",
    "    print(i,end=\"\")\n",
    "    "
   ]
  },
  {
   "cell_type": "code",
   "execution_count": 20,
   "id": "c1a162e6-dd03-4ddd-80a4-172ad6262e1e",
   "metadata": {},
   "outputs": [
    {
     "name": "stdout",
     "output_type": "stream",
     "text": [
      "('a', 123)('b', 345)('c', 567)('d', 789)"
     ]
    }
   ],
   "source": [
    "for i,j in d1.items():\n",
    "    print((i,j),end=\"\")"
   ]
  },
  {
   "cell_type": "code",
   "execution_count": 23,
   "id": "a35b0b30-2e20-45a1-a4f2-4a9127cb2440",
   "metadata": {},
   "outputs": [
    {
     "name": "stdout",
     "output_type": "stream",
     "text": [
      "{'a': 123, 'b': 345, 'c': 'Daksh', 'd': 789}\n"
     ]
    }
   ],
   "source": [
    "# update dictionary\n",
    "# as mentioned earlier, then key cannot appear more than once.\n",
    "#use the same key and assign a new value to it to update the dictionary object.\n",
    "\n",
    "\n",
    "d1={'a':123,'b':345,'c':567,'d':789}\n",
    "d1['c']=\"Daksh\"\n",
    "print(d1)\n",
    "\n",
    "# same key then update.\n",
    "#different key then add.\n"
   ]
  },
  {
   "cell_type": "code",
   "execution_count": 24,
   "id": "f9f86dbd-56a6-4197-9410-effa2b28326b",
   "metadata": {},
   "outputs": [
    {
     "name": "stdout",
     "output_type": "stream",
     "text": [
      "{'a': 123, 'b': 345, 'c': 'Daksh', 'd': 789, 'e': 'preet'}\n"
     ]
    }
   ],
   "source": [
    "d1['e']=\"preet\"\n",
    "print(d1)"
   ]
  },
  {
   "cell_type": "code",
   "execution_count": 25,
   "id": "5ac13540-748f-41d2-96f8-7584d09c88a1",
   "metadata": {},
   "outputs": [
    {
     "name": "stdout",
     "output_type": "stream",
     "text": [
      "{'a': 123, 'c': 567, 'd': 789}\n"
     ]
    }
   ],
   "source": [
    "#deleting valuesfrom a dictionary\n",
    "#use the del keyward, pop(), or popitem() method to delete a pair from a \n",
    "#dictionary or the dictionary object itself, to delete a pair, use its key \n",
    "#as a parameter. to delete a dictionary object itself, use del dictionary name.\n",
    "\n",
    "d1={'a':123,'b':345,'c':567,'d':789}\n",
    "del d1['b']\n",
    "print(d1)"
   ]
  },
  {
   "cell_type": "code",
   "execution_count": 26,
   "id": "5d7279e2-544d-4069-abb1-445b4057ca91",
   "metadata": {},
   "outputs": [
    {
     "name": "stdout",
     "output_type": "stream",
     "text": [
      "345\n",
      "{'a': 123, 'c': 567, 'd': 789}\n"
     ]
    }
   ],
   "source": [
    "d1={'a':123,'b':345,'c':567,'d':789}\n",
    "print(d1.pop('b'))\n",
    "print(d1)"
   ]
  },
  {
   "cell_type": "code",
   "execution_count": 27,
   "id": "a638c5c9-780b-4533-a157-5dc44f7f0098",
   "metadata": {},
   "outputs": [
    {
     "name": "stdout",
     "output_type": "stream",
     "text": [
      "{'a': 123, 'b': 345, 'c': 567}\n",
      "{'a': 123, 'b': 345}\n"
     ]
    }
   ],
   "source": [
    "d1={'a':123,'b':345,'c':567,'d':789}\n",
    "d1.popitem()\n",
    "print(d1)\n",
    "d1.popitem()\n",
    "print(d1)\n",
    "    "
   ]
  },
  {
   "cell_type": "code",
   "execution_count": 6,
   "id": "4d69fc79-fd5c-4efa-8413-abf91fca42d4",
   "metadata": {},
   "outputs": [
    {
     "name": "stdout",
     "output_type": "stream",
     "text": [
      "{'a': 123, 'b': 345, 'c': 567, 'd': 789}\n"
     ]
    }
   ],
   "source": [
    "d1={'a':123,'b':345,'c':567,'d':789}\n",
    "d1 #delete complete dictionary\n",
    "print(d1)"
   ]
  },
  {
   "cell_type": "code",
   "execution_count": 10,
   "id": "54acbdd2-7d00-472b-b33f-b9c35f9d1bd0",
   "metadata": {},
   "outputs": [
    {
     "ename": "SyntaxError",
     "evalue": "unterminated string literal (detected at line 1) (1663406816.py, line 1)",
     "output_type": "error",
     "traceback": [
      "\u001b[1;36m  Cell \u001b[1;32mIn[10], line 1\u001b[1;36m\u001b[0m\n\u001b[1;33m    mydict={1:'one',2:'two','A':{Name:'preet',Age':20},'B':(Bat,cat,hat)}\u001b[0m\n\u001b[1;37m                                                        ^\u001b[0m\n\u001b[1;31mSyntaxError\u001b[0m\u001b[1;31m:\u001b[0m unterminated string literal (detected at line 1)\n"
     ]
    }
   ],
   "source": [
    "mydict={1:'one',2:'two','A':{Name:'preet',Age':20},'B':(Bat,cat,hat)}\n",
    "mydict"
   ]
  },
  {
   "cell_type": "code",
   "execution_count": 1,
   "id": "7507eef2-bab8-4715-8b2b-303d04d4a27b",
   "metadata": {},
   "outputs": [],
   "source": [
    "#multi- dictional dictionary lets assume there are three dictionary objects, as below:\n",
    "\n",
    "d1={\"name\":\"Steve\",\"age\":25,\"marks\":60}\n",
    "d2={\"name\":\"Anil\",\"age\":23,\"marks\":75}\n",
    "d3={\"name\":\"Asha\",\"age\":20,\"marks\":70}\n"
   ]
  },
  {
   "cell_type": "code",
   "execution_count": 2,
   "id": "d09e1c50-f86d-4a40-a64d-60cf661e5cf1",
   "metadata": {},
   "outputs": [
    {
     "name": "stdout",
     "output_type": "stream",
     "text": [
      "{1: {'name': 'Steve', 'age': 25, 'marks': 60}, 2: {'name': 'Anil', 'age': 23, 'marks': 75}, 3: {'name': 'Asha', 'age': 20, 'marks': 70}}\n"
     ]
    }
   ],
   "source": [
    "students={1:d1,2:d2,3:d3}\n",
    "print(students)"
   ]
  },
  {
   "cell_type": "code",
   "execution_count": 3,
   "id": "2900e03c-7f02-4484-9790-b178d0fc3fbd",
   "metadata": {},
   "outputs": [
    {
     "name": "stdout",
     "output_type": "stream",
     "text": [
      "{'name': 'Steve', 'age': 25, 'marks': 60}\n",
      "{'name': 'Anil', 'age': 23, 'marks': 75}\n",
      "{'name': 'Asha', 'age': 20, 'marks': 70}\n"
     ]
    }
   ],
   "source": [
    "print(students[1])\n",
    "print(students[2])\n",
    "print(students[3])"
   ]
  },
  {
   "cell_type": "code",
   "execution_count": 41,
   "id": "3a1a9c2e-2ec2-49ac-a757-1b579fa3e141",
   "metadata": {},
   "outputs": [],
   "source": [
    "# dictionary methods\n",
    "#python Dictionary clear()\n",
    "#the dict.clear() method removes all the kay-value pair from the dictionary.\n",
    "\n",
    "#syntax:\n",
    "#dict.clear()\n"
   ]
  },
  {
   "cell_type": "code",
   "execution_count": 9,
   "id": "6a995fd0-49d0-4532-a1fd-2cddf4151d78",
   "metadata": {},
   "outputs": [
    {
     "name": "stdout",
     "output_type": "stream",
     "text": [
      "DICTIONARY: {'I': 1, 'ii': 2, 'III': 3, 'IV': 4, 'V': 5}\n"
     ]
    }
   ],
   "source": [
    "romanNums={'I':1,'ii':2,'III':3,'IV':4,'V':5}\n",
    "print(\"DICTIONARY:\",romanNums)"
   ]
  },
  {
   "cell_type": "code",
   "execution_count": 10,
   "id": "6aa5ac6c-782c-44cf-8998-047f118a8996",
   "metadata": {},
   "outputs": [],
   "source": [
    "#ronamNums.clear()\n",
    "#print(\" dictionary after calling clear() method:\", ronamNums)\n",
    "#python dictionary copy()\n",
    "#the dict.copy() method return a shallow copy of the dictionary.\n",
    "# the dictionary can also be copied using the \n"
   ]
  },
  {
   "cell_type": "code",
   "execution_count": 14,
   "id": "07b29905-c2f3-4cbf-b7db-2fb7ad921543",
   "metadata": {},
   "outputs": [
    {
     "name": "stdout",
     "output_type": "stream",
     "text": [
      "{'a': 123, 'b': 345, 'c': 567, 'd': 789}\n",
      "{'a': 123, 'b': 345, 'c': 567, 'd': 789}\n",
      "{}\n",
      "{}\n"
     ]
    }
   ],
   "source": [
    "d1={'a':123,'b':345,'c':567,'d':789}\n",
    "d2=d1\n",
    "print(d1)\n",
    "print(d2)\n",
    "d2.clear()\n",
    "print(d1)\n",
    "print(d2)"
   ]
  },
  {
   "cell_type": "code",
   "execution_count": 15,
   "id": "e57bf1e7-5193-4bbc-b877-0bf2433a5376",
   "metadata": {},
   "outputs": [
    {
     "name": "stdout",
     "output_type": "stream",
     "text": [
      "{'a': 123, 'b': 345, 'c': 567, 'd': 789}\n",
      "{'a': 123, 'b': 345, 'c': 567, 'd': 789}\n",
      "{'a': 123, 'b': 345, 'c': 567, 'd': 789}\n",
      "{}\n"
     ]
    }
   ],
   "source": [
    "d1={'a':123,'b':345,'c':567,'d':789}\n",
    "d2=d1.copy()\n",
    "print(d1)\n",
    "print(d2)\n",
    "d2.clear()\n",
    "print(d1)\n",
    "print(d2)"
   ]
  },
  {
   "cell_type": "code",
   "execution_count": 37,
   "id": "fd20fa96-c5f6-49d5-909e-e8cba48dedc3",
   "metadata": {},
   "outputs": [],
   "source": [
    "# python dictionary fromkeys()\n",
    "# the dict.fromkeys()method creats a new dictionary from the given iterable\n",
    "#( string,list,set,tuple) as keys and with the specified value.\n",
    "#syntax:\n",
    "#dictionary.fromkeys(sequence, value)"
   ]
  },
  {
   "cell_type": "code",
   "execution_count": 23,
   "id": "8e0633a1-9650-4b55-aa09-0803502ac1b0",
   "metadata": {},
   "outputs": [
    {
     "name": "stdout",
     "output_type": "stream",
     "text": [
      "{'New York': 'city', 'Mumbai,Bangalorer': 'city', 'Chicago': 'city'}\n"
     ]
    }
   ],
   "source": [
    "keys={'Mumbai'',Bangalorer','Chicago','New York'}\n",
    "value='city'\n",
    "dictionary=dict.fromkeys(keys,value)\n",
    "print(dictionary)"
   ]
  },
  {
   "cell_type": "code",
   "execution_count": 24,
   "id": "b4a1f8ab-6358-4748-a300-439dc491dcd7",
   "metadata": {},
   "outputs": [
    {
     "name": "stdout",
     "output_type": "stream",
     "text": [
      "{'New York': None, 'Mumbai,Bangalorer': None, 'Chicago': None}\n"
     ]
    }
   ],
   "source": [
    "keys={'Mumbai'',Bangalorer','Chicago','New York'}\n",
    "value='city'\n",
    "dictionary=dict.fromkeys(keys,)\n",
    "print(dictionary)"
   ]
  },
  {
   "cell_type": "code",
   "execution_count": 38,
   "id": "2170e44c-5e4f-46a4-a994-5e7bbc4bfece",
   "metadata": {},
   "outputs": [],
   "source": [
    "#python dictionary items()\n",
    "# the dict.iteams() returns a dictionary view object that provides a dynamic views od dictionary elementa as a list of keys-values pairs. the view object change when the dictionary changes.\n",
    "\n",
    "#syntax:\n",
    "#dict.items()"
   ]
  },
  {
   "cell_type": "code",
   "execution_count": 26,
   "id": "5447df5e-4562-41b7-b5d6-a5c20455cfaa",
   "metadata": {},
   "outputs": [
    {
     "name": "stdout",
     "output_type": "stream",
     "text": [
      "dict_items([('I', 1), ('II', 2), ('III', 3), ('IV', 4)])\n"
     ]
    }
   ],
   "source": [
    "romanNums={'I':1,'II':2,'III':3,'IV':4}\n",
    "dictview= romanNums. items()\n",
    "print(dictview)"
   ]
  },
  {
   "cell_type": "code",
   "execution_count": 39,
   "id": "ae8966f2-3f43-4d64-8a77-53b77bf870be",
   "metadata": {},
   "outputs": [],
   "source": [
    "#pythons dictionary keys()\n",
    "# the dict.keys() method returns a dictionary view object that contains the list of leys of the dictionary.\n",
    "#syntax:\n",
    "#dict.keys()"
   ]
  },
  {
   "cell_type": "code",
   "execution_count": 28,
   "id": "94e5d29b-4632-4274-ad73-b29fc6135867",
   "metadata": {},
   "outputs": [
    {
     "name": "stdout",
     "output_type": "stream",
     "text": [
      "dict_keys(['I', 'II', 'III', 'IV', 'V'])\n"
     ]
    }
   ],
   "source": [
    "romanNums={'I':1,'II':2,'III':3,'IV':4,'V':5}\n",
    "keys=romanNums.keys()\n",
    "print(keys)"
   ]
  },
  {
   "cell_type": "code",
   "execution_count": 29,
   "id": "ab5d16a5-beb6-483d-9eba-cc10bac687bb",
   "metadata": {},
   "outputs": [],
   "source": [
    "#python dictionary update() method\n",
    "# the dict.update() method updates the dictionary eith the keys-values pairs from another dictionary or another iterable such as tuple having key-value pairs.\n",
    "\n",
    "#syntax:\n",
    "#dict.update(iterable)"
   ]
  },
  {
   "cell_type": "code",
   "execution_count": 32,
   "id": "f7d97371-1c8d-4060-8d45-27747c59338d",
   "metadata": {},
   "outputs": [
    {
     "name": "stdout",
     "output_type": "stream",
     "text": [
      "dictionary: {'I': 1, 'III': 3, 'V': 5}\n"
     ]
    }
   ],
   "source": [
    "x={'I':1,'III':3,'V':5}\n",
    "print(\"dictionary:\",x)"
   ]
  },
  {
   "cell_type": "code",
   "execution_count": 34,
   "id": "dd9cd991-2340-4b7f-bbd5-cbf6eaa1b069",
   "metadata": {},
   "outputs": [
    {
     "name": "stdout",
     "output_type": "stream",
     "text": [
      "update dictionary: {'I': 1, 'III': 3, 'V': 5, 'II': 2, 'IV': 4}\n"
     ]
    }
   ],
   "source": [
    "y={'II':2,'IV':4}\n",
    "x.update(y)\n",
    "print(\"update dictionary:\",x)   "
   ]
  },
  {
   "cell_type": "code",
   "execution_count": 35,
   "id": "c5870212-8e87-4eed-afc4-de3ee1e56b80",
   "metadata": {},
   "outputs": [],
   "source": [
    "# python dictionary values()\n",
    "# the dict.value method returns the dictionary view object that provides a dynamic view of all thw values in the dictionary. this view object changes when the dictionary changes.\n",
    "\n",
    "#syntax:\n",
    "#dict.values()"
   ]
  },
  {
   "cell_type": "code",
   "execution_count": 36,
   "id": "d1c6d435-d2f2-402f-b347-01767d1c56e1",
   "metadata": {},
   "outputs": [
    {
     "name": "stdout",
     "output_type": "stream",
     "text": [
      "dict_values([1, 2, 3, 4, 5])\n"
     ]
    }
   ],
   "source": [
    "romanNums={'I':1,'II':2,'III':3,'IV':4,'V':5}\n",
    "values=romanNums.values()\n",
    "print(values)"
   ]
  },
  {
   "cell_type": "code",
   "execution_count": 43,
   "id": "a9999a36-8907-4109-8297-7c2e610076ab",
   "metadata": {},
   "outputs": [
    {
     "data": {
      "text/plain": [
       "{'b': None, 'a': None, 'c': None, 'd': None}"
      ]
     },
     "execution_count": 43,
     "metadata": {},
     "output_type": "execute_result"
    }
   ],
   "source": [
    "keys={'a','b','c','d'}\n",
    "mydict3=dict.fromkeys(keys)\n",
    "mydict3"
   ]
  },
  {
   "cell_type": "code",
   "execution_count": 45,
   "id": "a7193b99-a113-4edf-9f41-93aea7f6b1e1",
   "metadata": {},
   "outputs": [
    {
     "data": {
      "text/plain": [
       "{'b': 10, 'a': 10, 'c': 10, 'd': 10}"
      ]
     },
     "execution_count": 45,
     "metadata": {},
     "output_type": "execute_result"
    }
   ],
   "source": [
    "keys={'a','b','c','d'}\n",
    "value=10\n",
    "mydict3=dict.fromkeys(keys,value)\n",
    "mydict3"
   ]
  },
  {
   "cell_type": "code",
   "execution_count": 46,
   "id": "450ccb7b-7265-47e1-85bb-1a9c4acff1a2",
   "metadata": {},
   "outputs": [
    {
     "data": {
      "text/plain": [
       "{'b': [10, 20, 30], 'a': [10, 20, 30], 'c': [10, 20, 30], 'd': [10, 20, 30]}"
      ]
     },
     "execution_count": 46,
     "metadata": {},
     "output_type": "execute_result"
    }
   ],
   "source": [
    "keys={'a','b','c','d'}\n",
    "value=[10,20,30]\n",
    "mudict3=dict.fromkeys(keys,value)\n",
    "mudict3"
   ]
  },
  {
   "cell_type": "code",
   "execution_count": 47,
   "id": "61170c6a-292b-4f8d-a6ca-93122ffdc3b5",
   "metadata": {},
   "outputs": [
    {
     "data": {
      "text/plain": [
       "{'b': [10, 20, 30, 40],\n",
       " 'a': [10, 20, 30, 40],\n",
       " 'c': [10, 20, 30, 40],\n",
       " 'd': [10, 20, 30, 40]}"
      ]
     },
     "execution_count": 47,
     "metadata": {},
     "output_type": "execute_result"
    }
   ],
   "source": [
    "value.append(40)\n",
    "mudict3"
   ]
  },
  {
   "cell_type": "code",
   "execution_count": null,
   "id": "e356509f-b498-42db-ad7e-2a5255075830",
   "metadata": {},
   "outputs": [],
   "source": []
  }
 ],
 "metadata": {
  "kernelspec": {
   "display_name": "Python 3 (ipykernel)",
   "language": "python",
   "name": "python3"
  },
  "language_info": {
   "codemirror_mode": {
    "name": "ipython",
    "version": 3
   },
   "file_extension": ".py",
   "mimetype": "text/x-python",
   "name": "python",
   "nbconvert_exporter": "python",
   "pygments_lexer": "ipython3",
   "version": "3.11.7"
  }
 },
 "nbformat": 4,
 "nbformat_minor": 5
}
